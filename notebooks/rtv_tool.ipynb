{
 "cells": [
  {
   "cell_type": "code",
   "execution_count": 1,
   "metadata": {},
   "outputs": [],
   "source": [
    "import urllib.request\n",
    "from bs4 import BeautifulSoup"
   ]
  },
  {
   "cell_type": "code",
   "execution_count": 6,
   "metadata": {},
   "outputs": [],
   "source": [
    "page = urllib.request.urlopen('http://rtvslo.si')"
   ]
  },
  {
   "cell_type": "code",
   "execution_count": 7,
   "metadata": {},
   "outputs": [],
   "source": [
    "soup = BeautifulSoup(page.read(), 'html.parser')"
   ]
  },
  {
   "cell_type": "code",
   "execution_count": 19,
   "metadata": {},
   "outputs": [],
   "source": [
    "aktualno = soup.find(attrs={'id':'112-1'})"
   ]
  },
  {
   "cell_type": "code",
   "execution_count": 25,
   "metadata": {},
   "outputs": [
    {
     "name": "stdout",
     "output_type": "stream",
     "text": [
      "Med Palestinci nove žrtve izraelskih zračnih napadov. Katar: Znova potekajo pogajanja.\n",
      "V novih izraelskih zračnih napadih na Gazo je bilo po poročanju palestinskih oblasti ubitih najmanj 14 ljudi. Katarsko zunanje ministrstvo je medtem sporočilo, da znova potekajo pogajanja o obnovitvi humanitarnega premirja v Gazi.\n"
     ]
    }
   ],
   "source": [
    "main_news = aktualno.find(attrs={'class':'xl-news'})\n",
    "print(main_news.find_all('a')[2].string.strip())\n",
    "print(main_news.find('p').string.strip())"
   ]
  },
  {
   "cell_type": "code",
   "execution_count": 26,
   "metadata": {},
   "outputs": [
    {
     "name": "stdout",
     "output_type": "stream",
     "text": [
      "Ukrajina na seznam iskanih oseb uvrstila ruskega patriarha Kirila\n",
      "Ukrajinsko notranje ministrstvo je na seznam iskanih oseb uvrstilo patriarha Kirila, vodjo Ruske pravoslavne cerkve, ki je glasen zagovornik ruske invazije na Ukrajino. Tako Moskva kot Kijev sicer poročata o novih napadih z brezpilotniki.\n",
      "Letos od doma delalo skoraj 70 odstotkov manj ljudi kot leta 2021\n",
      "Obseg dela od doma se počasi zmanjšuje. Število prijav za delo na daljavo iz predkoronskega leta 2019 je še vedno preseženo za več kot 30-krat, a je obenem za skoraj polovico nižje kot lani in za skoraj 70 odstotkov nižje kot leta 2021.\n",
      "Moški smuk v Val Gardeni: Vodi Kilde pred Allegrom in Odermattom\n",
      "V Val Gardeni se tridnevni spored hitrih disciplin zaključuje z drugim smukom sezone svetovnega pokala alpskih smučarjev. V četrtek je prvega dobil Bryce Bennett.\n",
      "Jasmine Flury se nasmiha zmaga, Ilka Štuhec trenutno peta\n",
      "Jasmine Flury je pred prvo smukaško zmago v karieri. 30-letna Švicarka je v Val d'Iseru za 22 stotink prehitela rojakinjo Joano Hählen, za 24 pa Avstrijko Cornelio Hütter. Ilka Štuhec je postavila peti čas.\n"
     ]
    }
   ],
   "source": [
    "for item in aktualno.find_all(attrs={'class':'rotator-title-container'}): \n",
    "    print(item.find_all('a')[1].string.strip())\n",
    "    print(item.find('p').string.strip())\n"
   ]
  }
 ],
 "metadata": {
  "kernelspec": {
   "display_name": "env",
   "language": "python",
   "name": "python3"
  },
  "language_info": {
   "codemirror_mode": {
    "name": "ipython",
    "version": 3
   },
   "file_extension": ".py",
   "mimetype": "text/x-python",
   "name": "python",
   "nbconvert_exporter": "python",
   "pygments_lexer": "ipython3",
   "version": "3.9.6"
  }
 },
 "nbformat": 4,
 "nbformat_minor": 2
}
