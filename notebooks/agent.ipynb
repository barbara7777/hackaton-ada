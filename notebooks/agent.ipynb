{
 "cells": [
  {
   "cell_type": "code",
   "execution_count": 1,
   "metadata": {},
   "outputs": [
    {
     "data": {
      "text/plain": [
       "True"
      ]
     },
     "execution_count": 1,
     "metadata": {},
     "output_type": "execute_result"
    }
   ],
   "source": [
    "import dotenv\n",
    "import datetime\n",
    "\n",
    "from langchain import hub\n",
    "from langchain.chat_models import ChatOpenAI\n",
    "from langchain.agents.format_scratchpad import format_log_to_str\n",
    "from langchain.agents.output_parsers import ReActSingleInputOutputParser\n",
    "from langchain.tools.render import render_text_description\n",
    "from langchain.agents import AgentType, Tool, initialize_agent\n",
    "from langchain.memory import ConversationBufferMemory\n",
    "from langchain.utilities import SerpAPIWrapper\n",
    "from langchain.agents.format_scratchpad import format_log_to_messages\n",
    "from langchain.agents.output_parsers import JSONAgentOutputParser\n",
    "from langchain.agents import AgentExecutor\n",
    "\n",
    "dotenv.load_dotenv()"
   ]
  },
  {
   "cell_type": "code",
   "execution_count": 2,
   "metadata": {},
   "outputs": [],
   "source": [
    "prompt = hub.pull(\"hwchase17/react-chat-json\")\n",
    "chat_model = ChatOpenAI(temperature=0, model=\"gpt-4-1106-preview\")"
   ]
  },
  {
   "cell_type": "code",
   "execution_count": 3,
   "metadata": {},
   "outputs": [],
   "source": [
    "prompt.messages[0].prompt.input_variables = [\"date\", \"tools\", \"tool_names\"]"
   ]
  },
  {
   "cell_type": "code",
   "execution_count": 4,
   "metadata": {},
   "outputs": [],
   "source": [
    "prompt.messages[0].prompt.template = \"\"\"Danes je {date}. Si prijazna pomočnica po imenu Delfinček.\n",
    "Narejena si da pomagaš ljudem pri različnih problemih. Od odgovarjanja na preprosta vsakodnevna vprašanja do pomoči pri branju novic in pregledu nad razpoložljivostjo koles v Ljubljani.\n",
    "Za razpoložljivost koles in prebiranje novic uporabljaš orodja. Za odgovarjanje na vprašanja pa uporabljaš svoje znanje. Sposobna si prebirati velike količine podatkov in iz njih izluščiti pomembne informacije.\n",
    "Na vsa uporabnikov vhod si sposobna odgovoriti v slovenskem jeziku na razumljiv in naraven način. Vedno ponujaš smiselne in relevantne odgovore glede na temo uporabnikovega vhoda.\n",
    "\n",
    "ORODJA:\n",
    "-------\n",
    "Sposobna si uporabljat naslednja orodja za pomoč uporabnikom:\n",
    "\n",
    "{tools}\n",
    "\n",
    "NAVODILA ZA FORMIRANJE ODGOVORA:\n",
    "--------------------------------\n",
    "Ko odgovarjaš na uporabnikov vhod, odgovori v enem od naslednjih formatov:\n",
    "\n",
    "**Možnost 1:**\n",
    "Uporabi to markdown shemo ko želiš uporabit orodje:\n",
    "\n",
    "```json\n",
    "{{\n",
    "    \"action\": string, \\ action mora biti eno izmed orodji: {tool_names}\n",
    "    \"action_input\": string \\ Vhod za orodje.\n",
    "}}\n",
    "```\n",
    "\n",
    "**Možnost 2:**\n",
    "Uporabi to markdown shemo ko želiš odgovorit uporabniku:\n",
    "\n",
    "```json\n",
    "{{\n",
    "    \"action\": \"Final Answer\",\n",
    "    \"action_input\": string \\ Odogovor uporabniku v slovenščini.\n",
    "}}\n",
    "```\n",
    "\"\"\""
   ]
  },
  {
   "cell_type": "code",
   "execution_count": 5,
   "metadata": {},
   "outputs": [],
   "source": [
    "prompt.messages[2].prompt.input_variables = [\"input\"]"
   ]
  },
  {
   "cell_type": "code",
   "execution_count": 6,
   "metadata": {},
   "outputs": [],
   "source": [
    "prompt.messages[2].prompt.template = \"\"\"UPORABNIKOV VHOD:\n",
    "-----------------\n",
    "Tu je uporabnikov vhod (odgovori z markdown shemo json bloka z eno akcijo in nič drugega):\n",
    "\n",
    "{{{input}}}\n",
    "\"\"\""
   ]
  },
  {
   "cell_type": "code",
   "execution_count": 16,
   "metadata": {},
   "outputs": [],
   "source": [
    "def search(tmp):\n",
    "    return \"No data\"\n",
    "\n",
    "tools = [\n",
    "    Tool(\n",
    "        name=\"Novice\",\n",
    "        func=search,\n",
    "        description=\"Uporabi ko želiš prebrati novice iz spleta.\",\n",
    "    ),\n",
    "]"
   ]
  },
  {
   "cell_type": "code",
   "execution_count": 17,
   "metadata": {},
   "outputs": [],
   "source": [
    "prompt = prompt.partial(\n",
    "    tools=render_text_description(tools),\n",
    "    tool_names=\", \".join([t.name for t in tools]),\n",
    "    date=datetime.datetime.now().strftime(\"%d.%m.%Y %H:%M:%S\"),\n",
    ")"
   ]
  },
  {
   "cell_type": "code",
   "execution_count": 18,
   "metadata": {},
   "outputs": [],
   "source": [
    "chat_model_with_stop = chat_model.bind(stop=[\"\\nKorak\"])"
   ]
  },
  {
   "cell_type": "code",
   "execution_count": 19,
   "metadata": {},
   "outputs": [],
   "source": [
    "TEMPLATE_TOOL_RESPONSE = \"\"\"{observation}\"\"\"\n",
    "\n",
    "agent = (\n",
    "    {\n",
    "        \"input\": lambda x: x[\"input\"],\n",
    "        \"agent_scratchpad\": lambda x: format_log_to_messages(\n",
    "            x[\"intermediate_steps\"], template_tool_response=TEMPLATE_TOOL_RESPONSE\n",
    "        ),\n",
    "        \"chat_history\": lambda x: x[\"chat_history\"],\n",
    "    }\n",
    "    | prompt\n",
    "    | chat_model_with_stop\n",
    "    | JSONAgentOutputParser()\n",
    ")"
   ]
  },
  {
   "cell_type": "code",
   "execution_count": 20,
   "metadata": {},
   "outputs": [],
   "source": [
    "memory = ConversationBufferMemory(memory_key=\"chat_history\", return_messages=True)\n",
    "agent_executor = AgentExecutor(agent=agent, tools=tools, verbose=True, memory=memory)"
   ]
  },
  {
   "cell_type": "code",
   "execution_count": 23,
   "metadata": {},
   "outputs": [
    {
     "name": "stdout",
     "output_type": "stream",
     "text": [
      "\n",
      "\n",
      "\u001b[1m> Entering new AgentExecutor chain...\u001b[0m\n",
      "\u001b[32;1m\u001b[1;3m```json\n",
      "{\n",
      "    \"action\": \"Final Answer\",\n",
      "    \"action_input\": \"Sem umetna inteligenca, ki je bila ustvarjena, da pomagam ljudem pri različnih problemih. Moje ime je Delfinček in sem tu, da odgovarjam na vprašanja, pomagam pri iskanju informacij in nudim podporo pri različnih nalogah. Če imate kakršno koli vprašanje ali potrebujete pomoč, sem tu za vas.\"\n",
      "}\n",
      "```\u001b[0m\n",
      "\n",
      "\u001b[1m> Finished chain.\u001b[0m\n"
     ]
    },
    {
     "data": {
      "text/plain": [
       "'Sem umetna inteligenca, ki je bila ustvarjena, da pomagam ljudem pri različnih problemih. Moje ime je Delfinček in sem tu, da odgovarjam na vprašanja, pomagam pri iskanju informacij in nudim podporo pri različnih nalogah. Če imate kakršno koli vprašanje ali potrebujete pomoč, sem tu za vas.'"
      ]
     },
     "execution_count": 23,
     "metadata": {},
     "output_type": "execute_result"
    }
   ],
   "source": [
    "agent_executor.invoke({\"input\": \"Povej mi malo o sebi\"})[\"output\"]"
   ]
  }
 ],
 "metadata": {
  "kernelspec": {
   "display_name": "env",
   "language": "python",
   "name": "python3"
  },
  "language_info": {
   "codemirror_mode": {
    "name": "ipython",
    "version": 3
   },
   "file_extension": ".py",
   "mimetype": "text/x-python",
   "name": "python",
   "nbconvert_exporter": "python",
   "pygments_lexer": "ipython3",
   "version": "3.9.6"
  }
 },
 "nbformat": 4,
 "nbformat_minor": 2
}
